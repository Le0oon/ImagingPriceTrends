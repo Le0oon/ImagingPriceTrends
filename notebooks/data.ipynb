{
 "cells": [
  {
   "cell_type": "code",
   "execution_count": 7,
   "metadata": {},
   "outputs": [
    {
     "name": "stdout",
     "output_type": "stream",
     "text": [
      "The autoreload extension is already loaded. To reload it, use:\n",
      "  %reload_ext autoreload\n"
     ]
    }
   ],
   "source": [
    "from PIL import Image\n",
    "import numpy as np\n",
    "import os \n",
    "import cv2\n",
    "import matplotlib.pyplot as plt\n",
    "from torchvision import transforms, datasets\n",
    "import torch\n",
    "import sys\n",
    "sys.path.append('../codes/')\n",
    "from network import CNN_with_decoder,CNN2\n",
    "%load_ext autoreload\n",
    "%autoreload 2"
   ]
  },
  {
   "cell_type": "code",
   "execution_count": 2,
   "metadata": {},
   "outputs": [],
   "source": [
    "train_path = '../data/train/'\n",
    "all_positive_train = os.listdir('../data/train/1/')\n",
    "all_negative_train = os.listdir('../data/train/0/')\n"
   ]
  },
  {
   "cell_type": "code",
   "execution_count": 4,
   "metadata": {},
   "outputs": [],
   "source": [
    "transform_train = transforms.Compose([\n",
    "    transforms.ToTensor(),\n",
    "])\n",
    "dataset = datasets.ImageFolder(\n",
    "    root=os.path.join('../data/', 'train'),\n",
    "    transform=transform_train)\n",
    "\n",
    "fp=open('../logs/output.log','a+')\n",
    "# device = "
   ]
  },
  {
   "cell_type": "code",
   "execution_count": 9,
   "metadata": {},
   "outputs": [
    {
     "data": {
      "text/plain": [
       "False"
      ]
     },
     "execution_count": 9,
     "metadata": {},
     "output_type": "execute_result"
    }
   ],
   "source": [
    "torch.cuda.is_available()"
   ]
  },
  {
   "cell_type": "code",
   "execution_count": 5,
   "metadata": {},
   "outputs": [],
   "source": [
    "from sklearn.model_selection import train_test_split\n",
    "train_set, val_set = train_test_split(dataset, test_size=0.3, random_state=42)\n"
   ]
  },
  {
   "cell_type": "code",
   "execution_count": 7,
   "metadata": {},
   "outputs": [
    {
     "name": "stdout",
     "output_type": "stream",
     "text": [
      "\u001b[0;31mType:\u001b[0m        ImageFolder\n",
      "\u001b[0;31mString form:\u001b[0m\n",
      "Dataset ImageFolder\n",
      "    Number of datapoints: 107557\n",
      "    Root location: ../data/train\n",
      "    StandardTransform\n",
      "Transform: Compose(\n",
      "               ToTensor()\n",
      "           )\n",
      "\u001b[0;31mLength:\u001b[0m      107557\n",
      "\u001b[0;31mFile:\u001b[0m        ~/miniconda3/lib/python3.11/site-packages/torchvision/datasets/folder.py\n",
      "\u001b[0;31mDocstring:\u001b[0m  \n",
      "A generic data loader where the images are arranged in this way by default: ::\n",
      "\n",
      "    root/dog/xxx.png\n",
      "    root/dog/xxy.png\n",
      "    root/dog/[...]/xxz.png\n",
      "\n",
      "    root/cat/123.png\n",
      "    root/cat/nsdf3.png\n",
      "    root/cat/[...]/asd932_.png\n",
      "\n",
      "This class inherits from :class:`~torchvision.datasets.DatasetFolder` so\n",
      "the same methods can be overridden to customize the dataset.\n",
      "\n",
      "Args:\n",
      "    root (string): Root directory path.\n",
      "    transform (callable, optional): A function/transform that  takes in an PIL image\n",
      "        and returns a transformed version. E.g, ``transforms.RandomCrop``\n",
      "    target_transform (callable, optional): A function/transform that takes in the\n",
      "        target and transforms it.\n",
      "    loader (callable, optional): A function to load an image given its path.\n",
      "    is_valid_file (callable, optional): A function that takes path of an Image file\n",
      "        and check if the file is a valid file (used to check of corrupt files)\n",
      "\n",
      " Attributes:\n",
      "    classes (list): List of the class names sorted alphabetically.\n",
      "    class_to_idx (dict): Dict with items (class_name, class_index).\n",
      "    imgs (list): List of (image path, class_index) tuples"
     ]
    }
   ],
   "source": [
    "dataset?"
   ]
  },
  {
   "cell_type": "code",
   "execution_count": null,
   "metadata": {},
   "outputs": [],
   "source": [
    "train_loader = torch.utils.data.DataLoader(train_set, batch_size=args.batch_size, shuffle=True)\n",
    "val_loader = torch.utils.data.DataLoader(val_set, batch_size=args.batch_size, shuffle=False)"
   ]
  },
  {
   "cell_type": "code",
   "execution_count": 4,
   "metadata": {},
   "outputs": [],
   "source": [
    "I = cv2.imread(os.path.join(train_path,'1',all_positive_train[0])) \n"
   ]
  },
  {
   "cell_type": "code",
   "execution_count": 13,
   "metadata": {},
   "outputs": [],
   "source": [
    "# (I[::-1]!=255)"
   ]
  },
  {
   "cell_type": "code",
   "execution_count": 14,
   "metadata": {},
   "outputs": [
    {
     "data": {
      "text/plain": [
       "<matplotlib.image.AxesImage at 0x7fe5197c7310>"
      ]
     },
     "execution_count": 14,
     "metadata": {},
     "output_type": "execute_result"
    },
    {
     "data": {
      "image/png": "[encoded data removed]",
      "text/plain": [
       "<Figure size 640x480 with 1 Axes>"
      ]
     },
     "metadata": {},
     "output_type": "display_data"
    }
   ],
   "source": [
    "# im2 = I[:,:,::-1] \t# transform image to rgb\n",
    "# im2[im2>0] = 255\n",
    "# im2 = I\n",
    "plt.imshow(I)\n",
    "# I"
   ]
  },
  {
   "cell_type": "code",
   "execution_count": 4,
   "metadata": {},
   "outputs": [
    {
     "ename": "AttributeError",
     "evalue": "'NoneType' object has no attribute 'shape'",
     "output_type": "error",
     "traceback": [
      "\u001b[0;31m---------------------------------------------------------------------------\u001b[0m",
      "\u001b[0;31mAttributeError\u001b[0m                            Traceback (most recent call last)",
      "\u001b[1;32m/home/qzliu/CNN/notebooks/data.ipynb Cell 4\u001b[0m line \u001b[0;36m1\n\u001b[0;32m----> <a href='vscode-notebook-cell://ssh-remote%2B47.115.201.140/home/qzliu/CNN/notebooks/data.ipynb#W3sdnNjb2RlLXJlbW90ZQ%3D%3D?line=0'>1</a>\u001b[0m I\u001b[39m.\u001b[39;49mshape\n",
      "\u001b[0;31mAttributeError\u001b[0m: 'NoneType' object has no attribute 'shape'"
     ]
    }
   ],
   "source": [
    "I.shape"
   ]
  }
 ],
 "metadata": {
  "kernelspec": {
   "display_name": "base",
   "language": "python",
   "name": "python3"
  },
  "language_info": {
   "codemirror_mode": {
    "name": "ipython",
    "version": 3
   },
   "file_extension": ".py",
   "mimetype": "text/x-python",
   "name": "python",
   "nbconvert_exporter": "python",
   "pygments_lexer": "ipython3",
   "version": "3.11.4"
  }
 },
 "nbformat": 4,
 "nbformat_minor": 2
}
