{
 "cells": [
  {
   "cell_type": "code",
   "execution_count": 1,
   "metadata": {},
   "outputs": [],
   "source": [
    "from PIL import Image\n",
    "import numpy as np\n",
    "import os \n",
    "import cv2\n",
    "import matplotlib.pyplot as plt\n",
    "from torchvision import transforms, datasets\n",
    "import torch\n",
    "import sys\n",
    "sys.path.append('../codes/')\n",
    "from network import CNN_with_decoder,CNN2\n",
    "from losses import  loss\n",
    "from optimizer import create_optimizer\n",
    "%load_ext autoreload\n",
    "%autoreload 2"
   ]
  },
  {
   "cell_type": "code",
   "execution_count": 2,
   "metadata": {},
   "outputs": [],
   "source": [
    "train_path = '../data/train/'\n",
    "all_positive_train = os.listdir('../data/train/1/')\n",
    "all_negative_train = os.listdir('../data/train/0/')\n"
   ]
  },
  {
   "cell_type": "code",
   "execution_count": 7,
   "metadata": {},
   "outputs": [],
   "source": [
    "transform_train = transforms.Compose([\n",
    "    transforms.ToTensor(),\n",
    "])\n",
    "dataset = datasets.ImageFolder(\n",
    "    root=os.path.join('../data/', 'train'),\n",
    "    transform=transform_train)\n",
    "\n",
    "fp=open('../logs/output.log','a+')\n",
    "device = torch.device(\"cuda:0\" if torch.cuda.is_available() else \"cpu\")\n",
    "model = CNN2().to(device)\n",
    "# 定义代价函数\n",
    "criterion = torch.nn.CrossEntropyLoss()\n",
    "\n",
    "# 定义优化器\n",
    "optimizer = torch.optim.Adam(model.parameters())\n",
    "\n",
    "epochs = 10"
   ]
  },
  {
   "cell_type": "code",
   "execution_count": 4,
   "metadata": {},
   "outputs": [],
   "source": [
    "from sklearn.model_selection import train_test_split\n",
    "train_set, val_set = train_test_split(dataset, test_size=0.3, random_state=42)\n"
   ]
  },
  {
   "cell_type": "code",
   "execution_count": 5,
   "metadata": {},
   "outputs": [],
   "source": [
    "train_loader = torch.utils.data.DataLoader(train_set, batch_size=128, shuffle=True)\n",
    "val_loader = torch.utils.data.DataLoader(val_set, batch_size=128, shuffle=False)"
   ]
  },
  {
   "cell_type": "code",
   "execution_count": 8,
   "metadata": {},
   "outputs": [
    {
     "name": "stdout",
     "output_type": "stream",
     "text": [
      "Epoch [0][10]\t Batch [0][589]\t Training Loss 0.7328\t Accuracy 0.5547\t Time(Iter) 0.5458\n",
      "Epoch [0][10]\t Batch [100][589]\t Training Loss 0.8433\t Accuracy 0.4698\t Time(Iter) 0.3510\n",
      "Epoch [0][10]\t Batch [200][589]\t Training Loss 0.8401\t Accuracy 0.4731\t Time(Iter) 0.3622\n",
      "Epoch [0][10]\t Batch [300][589]\t Training Loss 0.8412\t Accuracy 0.4720\t Time(Iter) 0.3629\n",
      "Epoch [0][10]\t Batch [400][589]\t Training Loss 0.8430\t Accuracy 0.4702\t Time(Iter) 0.3795\n",
      "Epoch [0][10]\t Batch [500][589]\t Training Loss 0.8417\t Accuracy 0.4715\t Time(Iter) 0.3739\n",
      "Epoch [0]\t Average training loss 0.8432\t Average training accuracy 0.4700\n",
      "Epoch [0]\t Average validation loss 0.8456\t Average validation accuracy 0.4676\n",
      "Best ckpt 0.4676177537017189\n",
      "Epoch [1][10]\t Batch [0][589]\t Training Loss 0.8836\t Accuracy 0.4297\t Time(Iter) 0.3568\n",
      "Epoch [1][10]\t Batch [100][589]\t Training Loss 0.8447\t Accuracy 0.4685\t Time(Iter) 0.3557\n",
      "Epoch [1][10]\t Batch [200][589]\t Training Loss 0.8449\t Accuracy 0.4684\t Time(Iter) 0.3587\n",
      "Epoch [1][10]\t Batch [300][589]\t Training Loss 0.8457\t Accuracy 0.4676\t Time(Iter) 0.3704\n",
      "Epoch [1][10]\t Batch [400][589]\t Training Loss 0.8438\t Accuracy 0.4695\t Time(Iter) 0.3606\n",
      "Epoch [1][10]\t Batch [500][589]\t Training Loss 0.8432\t Accuracy 0.4701\t Time(Iter) 0.3659\n",
      "Epoch [1]\t Average training loss 0.8430\t Average training accuracy 0.4702\n",
      "Epoch [1]\t Average validation loss 0.8456\t Average validation accuracy 0.4676\n",
      "Epoch [2][10]\t Batch [0][589]\t Training Loss 0.8054\t Accuracy 0.5078\t Time(Iter) 0.3605\n",
      "Epoch [2][10]\t Batch [100][589]\t Training Loss 0.8403\t Accuracy 0.4729\t Time(Iter) 0.3706\n",
      "Epoch [2][10]\t Batch [200][589]\t Training Loss 0.8409\t Accuracy 0.4724\t Time(Iter) 0.3665\n",
      "Epoch [2][10]\t Batch [300][589]\t Training Loss 0.8440\t Accuracy 0.4693\t Time(Iter) 0.3677\n",
      "Epoch [2][10]\t Batch [400][589]\t Training Loss 0.8443\t Accuracy 0.4690\t Time(Iter) 0.3681\n",
      "Epoch [2][10]\t Batch [500][589]\t Training Loss 0.8435\t Accuracy 0.4698\t Time(Iter) 0.3677\n",
      "Epoch [2]\t Average training loss 0.8432\t Average training accuracy 0.4700\n",
      "Epoch [2]\t Average validation loss 0.8456\t Average validation accuracy 0.4676\n",
      "Epoch [3][10]\t Batch [0][589]\t Training Loss 0.8758\t Accuracy 0.4375\t Time(Iter) 0.3769\n",
      "Epoch [3][10]\t Batch [100][589]\t Training Loss 0.8386\t Accuracy 0.4746\t Time(Iter) 0.3649\n",
      "Epoch [3][10]\t Batch [200][589]\t Training Loss 0.8398\t Accuracy 0.4734\t Time(Iter) 0.3843\n",
      "Epoch [3][10]\t Batch [300][589]\t Training Loss 0.8434\t Accuracy 0.4699\t Time(Iter) 0.3614\n",
      "Epoch [3][10]\t Batch [400][589]\t Training Loss 0.8445\t Accuracy 0.4688\t Time(Iter) 0.3595\n",
      "Epoch [3][10]\t Batch [500][589]\t Training Loss 0.8443\t Accuracy 0.4689\t Time(Iter) 0.3637\n",
      "Epoch [3]\t Average training loss 0.8433\t Average training accuracy 0.4700\n",
      "Epoch [3]\t Average validation loss 0.8456\t Average validation accuracy 0.4676\n",
      "Epoch [4][10]\t Batch [0][589]\t Training Loss 0.8211\t Accuracy 0.4922\t Time(Iter) 0.3630\n",
      "Epoch [4][10]\t Batch [100][589]\t Training Loss 0.8408\t Accuracy 0.4725\t Time(Iter) 0.3655\n",
      "Epoch [4][10]\t Batch [200][589]\t Training Loss 0.8426\t Accuracy 0.4707\t Time(Iter) 0.3733\n",
      "Epoch [4][10]\t Batch [300][589]\t Training Loss 0.8417\t Accuracy 0.4716\t Time(Iter) 0.3627\n",
      "Epoch [4][10]\t Batch [400][589]\t Training Loss 0.8416\t Accuracy 0.4716\t Time(Iter) 0.3713\n",
      "Epoch [4][10]\t Batch [500][589]\t Training Loss 0.8425\t Accuracy 0.4708\t Time(Iter) 0.3734\n",
      "Epoch [4]\t Average training loss 0.8434\t Average training accuracy 0.4699\n",
      "Epoch [4]\t Average validation loss 0.8456\t Average validation accuracy 0.4676\n"
     ]
    }
   ],
   "source": [
    "from engine import train\n",
    "model_trained, best_model, train_los, train_acc, val_los, val_acc = train(\n",
    "    model=model, \n",
    "    criterion=criterion,\n",
    "    train_loader=train_loader,\n",
    "    val_loader=val_loader,\n",
    "    optimizer=optimizer,\n",
    "    device=device,\n",
    "    max_epoch=epochs,\n",
    "    disp_freq=100)"
   ]
  },
  {
   "cell_type": "code",
   "execution_count": 28,
   "metadata": {},
   "outputs": [],
   "source": [
    "import cv2 as cv\n",
    "img = cv.imread('../data/train/1/000001.SZ-20100526.png')\n",
    "\n",
    "# sharpen_op = np.array([[0, -1, 0], [-1, 5, -1], [0, -1, 0]], dtype=np.float32)\n",
    "# sharpen_image = cv.filter2D(img, cv.CV_32F, sharpen_op)\n",
    "# sharpen_image = cv.convertScaleAbs(sharpen_image)\n",
    "# sharpen_image[sharpen_image>0]=255\n",
    "# plt.imshow(sharpen_image)"
   ]
  },
  {
   "cell_type": "code",
   "execution_count": 3,
   "metadata": {},
   "outputs": [],
   "source": [
    "# backtest_frame_path = 'D:/QuantFrame'\n",
    "backtest_frame_path = '/home/qzliu/QuantFrame'\n",
    "\n",
    "import pandas as pd\n",
    "import numpy as np\n",
    "import numpy.random as npr\n",
    "import matplotlib.pyplot as plt\n",
    "import seaborn as sns\n",
    "import os \n",
    "from scipy import stats\n",
    "import warnings\n",
    "warnings.filterwarnings('ignore')\n",
    "\n",
    "plt.rcParams['font.sans-serif'] = ['SimHei']  # 用来正常显示中文标签\n",
    "plt.rcParams['axes.unicode_minus'] = False  # 用来正常显示负号\n",
    "plt.rcParams['font.size'] = '20' # 设置字体大小 \n",
    "sns.set()\n",
    "\n",
    "from IPython.core.interactiveshell import InteractiveShell\n",
    "InteractiveShell.ast_node_interactivity = \"all\"\n",
    "import warnings\n",
    "warnings.filterwarnings('ignore')\n",
    "\n",
    "from tqdm import tqdm\n",
    "import sys \n",
    "sys.path.append(backtest_frame_path)\n",
    "import numba\n",
    "\n",
    "from datetime import datetime\n",
    "from tqdm import tqdm\n",
    "from multiprocessing import Pool,cpu_count\n",
    "try: \n",
    "    import my_config as config\n",
    "except:\n",
    "    import config\n",
    "    print('Failed to import module my_config.py, use default config file.')\n",
    "\n",
    "data_path = config.data_path"
   ]
  },
  {
   "cell_type": "code",
   "execution_count": 4,
   "metadata": {},
   "outputs": [],
   "source": [
    "from Data import TDayProcessor,TushareDownloader,StockData\n",
    "from Factors import Factor, TSFeatureEngineer, NumbaFuncs, TimingFactor,ScreenFactor\n",
    "from StockBackTest import BackTest, EventStudy\n",
    "from AutoAlpha import AlphaTreePopulation, ExpressionTree,Node\n",
    "\n",
    "\n",
    "from AutoAlpha.Population import calculate_pop_tree_value,evaluate_pop_tree\n",
    "from AutoAlpha.AlphaTree import split_string_with_balanced_parentheses\n",
    "\n",
    "%load_ext autoreload\n",
    "%autoreload 2\n",
    "%matplotlib inline\n",
    "\n",
    "date_col = 'TradingDay'\n",
    "secu_col = 'SecuCode'\n",
    "key_col = [date_col,secu_col]"
   ]
  },
  {
   "cell_type": "code",
   "execution_count": 5,
   "metadata": {},
   "outputs": [
    {
     "name": "stdout",
     "output_type": "stream",
     "text": [
      "HDFReader: invalid sort_by columns.\n"
     ]
    }
   ],
   "source": [
    "DB = StockData(data_path,start_dt=\"2009-01-01\",update=False)"
   ]
  },
  {
   "cell_type": "code",
   "execution_count": 6,
   "metadata": {},
   "outputs": [],
   "source": [
    "data_folder = '../data_base_500'\n",
    "\n",
    "all_files = os.listdir(os.path.join(data_folder,'train','0')) + \\\n",
    "            os.listdir(os.path.join(data_folder,'train','1')) + \\\n",
    "            os.listdir(os.path.join(data_folder,'test','0')) + \\\n",
    "            os.listdir(os.path.join(data_folder,'test','1'))\n",
    "\n",
    "def parse_info(file_name):\n",
    "    secu_code = file_name.split('.')[0]\n",
    "    trading_day = file_name.split('-')[1].rstrip('.png')\n",
    "    trading_day = trading_day[0:4] + '-' + trading_day[4:6] + '-' + trading_day[6:]\n",
    "    return secu_code, trading_day\n",
    "\n",
    "secu_list, trading_day_list = zip(*[parse_info(file_name) for file_name in all_files])"
   ]
  },
  {
   "cell_type": "code",
   "execution_count": 7,
   "metadata": {},
   "outputs": [],
   "source": [
    "tmp_secu = list(set(secu_list))"
   ]
  },
  {
   "cell_type": "code",
   "execution_count": 8,
   "metadata": {},
   "outputs": [],
   "source": [
    "for secu in tmp_secu:\n",
    "    if not (secu.startswith('0') or secu.startswith('6')):\n",
    "        print(secu)"
   ]
  },
  {
   "cell_type": "code",
   "execution_count": 16,
   "metadata": {},
   "outputs": [
    {
     "data": {
      "text/html": [
       "<div>\n",
       "<style scoped>\n",
       "    .dataframe tbody tr th:only-of-type {\n",
       "        vertical-align: middle;\n",
       "    }\n",
       "\n",
       "    .dataframe tbody tr th {\n",
       "        vertical-align: top;\n",
       "    }\n",
       "\n",
       "    .dataframe thead th {\n",
       "        text-align: right;\n",
       "    }\n",
       "</style>\n",
       "<table border=\"1\" class=\"dataframe\">\n",
       "  <thead>\n",
       "    <tr style=\"text-align: right;\">\n",
       "      <th></th>\n",
       "      <th>SecuCode</th>\n",
       "      <th>TradingDay</th>\n",
       "      <th>open</th>\n",
       "      <th>high</th>\n",
       "      <th>low</th>\n",
       "      <th>close</th>\n",
       "      <th>TurnoverVolume</th>\n",
       "      <th>TurnoverValue</th>\n",
       "      <th>is_new</th>\n",
       "      <th>SWF</th>\n",
       "      <th>SWS</th>\n",
       "      <th>SWT</th>\n",
       "      <th>adj_factor</th>\n",
       "      <th>vwap</th>\n",
       "    </tr>\n",
       "  </thead>\n",
       "  <tbody>\n",
       "    <tr>\n",
       "      <th>0</th>\n",
       "      <td>000006</td>\n",
       "      <td>2009-01-05</td>\n",
       "      <td>NaN</td>\n",
       "      <td>NaN</td>\n",
       "      <td>NaN</td>\n",
       "      <td>NaN</td>\n",
       "      <td>5183639.0</td>\n",
       "      <td>26503711.6</td>\n",
       "      <td>False</td>\n",
       "      <td>农林牧渔</td>\n",
       "      <td>种植业</td>\n",
       "      <td>种子</td>\n",
       "      <td>NaN</td>\n",
       "      <td>NaN</td>\n",
       "    </tr>\n",
       "    <tr>\n",
       "      <th>1</th>\n",
       "      <td>000021</td>\n",
       "      <td>2009-01-05</td>\n",
       "      <td>NaN</td>\n",
       "      <td>NaN</td>\n",
       "      <td>NaN</td>\n",
       "      <td>NaN</td>\n",
       "      <td>2908118.0</td>\n",
       "      <td>12423674.7</td>\n",
       "      <td>False</td>\n",
       "      <td>农林牧渔</td>\n",
       "      <td>种植业</td>\n",
       "      <td>种子</td>\n",
       "      <td>NaN</td>\n",
       "      <td>NaN</td>\n",
       "    </tr>\n",
       "    <tr>\n",
       "      <th>2</th>\n",
       "      <td>000028</td>\n",
       "      <td>2009-01-05</td>\n",
       "      <td>NaN</td>\n",
       "      <td>NaN</td>\n",
       "      <td>NaN</td>\n",
       "      <td>NaN</td>\n",
       "      <td>1016654.0</td>\n",
       "      <td>17171821.4</td>\n",
       "      <td>False</td>\n",
       "      <td>农林牧渔</td>\n",
       "      <td>种植业</td>\n",
       "      <td>种子</td>\n",
       "      <td>NaN</td>\n",
       "      <td>NaN</td>\n",
       "    </tr>\n",
       "  </tbody>\n",
       "</table>\n",
       "</div>"
      ],
      "text/plain": [
       "  SecuCode TradingDay  open  high  low  close  TurnoverVolume  TurnoverValue  \\\n",
       "0   000006 2009-01-05   NaN   NaN  NaN    NaN       5183639.0     26503711.6   \n",
       "1   000021 2009-01-05   NaN   NaN  NaN    NaN       2908118.0     12423674.7   \n",
       "2   000028 2009-01-05   NaN   NaN  NaN    NaN       1016654.0     17171821.4   \n",
       "\n",
       "  is_new   SWF  SWS SWT  adj_factor  vwap  \n",
       "0  False  农林牧渔  种植业  种子         NaN   NaN  \n",
       "1  False  农林牧渔  种植业  种子         NaN   NaN  \n",
       "2  False  农林牧渔  种植业  种子         NaN   NaN  "
      ]
     },
     "execution_count": 16,
     "metadata": {},
     "output_type": "execute_result"
    }
   ],
   "source": [
    "df = DB.daily_df_qfq.query('SecuCode in @tmp_secu and TradingDay < \"2015-01-01\"')\n",
    "df.reset_index(inplace=True,drop=True)\n",
    "df.head(3)"
   ]
  },
  {
   "cell_type": "code",
   "execution_count": 17,
   "metadata": {},
   "outputs": [],
   "source": [
    "df['open_60D'] = df.groupby('SecuCode')['open'].rolling(60,min_periods=30).apply(lambda x: x.values[0]).droplevel(0) \n",
    "df['low_60D'] = df.groupby('SecuCode')['low'].rolling(60,min_periods=30).min().droplevel(0) \n",
    "df['high_60D'] = df.groupby('SecuCode')['high'].rolling(60,min_periods=30).max().droplevel(0) \n",
    "df['open_60D_pct'] = (df['open_60D']/df['close'] - 1) * 100\n",
    "df['low_60D_pct'] = (df['low_60D']/df['close'] - 1) * 100\n",
    "df['high_60D_pct'] = (df['high_60D']/df['close'] - 1) * 100"
   ]
  },
  {
   "cell_type": "code",
   "execution_count": 18,
   "metadata": {},
   "outputs": [],
   "source": [
    "df['secu'] = df['SecuCode'].map(lambda x: x + ('.SZ' if x.startswith('0') else '.SH'))\n",
    "df['date'] = df['TradingDay'].map(lambda x: datetime.strftime(x,'%Y%m%d'))\n",
    "df['idx'] = df['secu'] + '-' + df['date'] + '.png'"
   ]
  },
  {
   "cell_type": "code",
   "execution_count": 19,
   "metadata": {},
   "outputs": [],
   "source": [
    "\n",
    "df = df[['idx','SecuCode','TradingDay','open_60D_pct','low_60D_pct','high_60D_pct']].query('TradingDay >= \"2010-01-01\"').set_index('idx').dropna()"
   ]
  },
  {
   "cell_type": "code",
   "execution_count": 20,
   "metadata": {},
   "outputs": [],
   "source": [
    "df.query('TradingDay < \"2015-01-01\"').to_hdf('../data_base_500/price.h5',key='x')"
   ]
  },
  {
   "cell_type": "code",
   "execution_count": 21,
   "metadata": {},
   "outputs": [],
   "source": [
    "df.query('TradingDay >= \"2013-01-01\"').to_hdf('../data_base_test_acc/price.h5',key='x')"
   ]
  },
  {
   "cell_type": "code",
   "execution_count": 22,
   "metadata": {},
   "outputs": [
    {
     "data": {
      "text/html": [
       "<div>\n",
       "<style scoped>\n",
       "    .dataframe tbody tr th:only-of-type {\n",
       "        vertical-align: middle;\n",
       "    }\n",
       "\n",
       "    .dataframe tbody tr th {\n",
       "        vertical-align: top;\n",
       "    }\n",
       "\n",
       "    .dataframe thead th {\n",
       "        text-align: right;\n",
       "    }\n",
       "</style>\n",
       "<table border=\"1\" class=\"dataframe\">\n",
       "  <thead>\n",
       "    <tr style=\"text-align: right;\">\n",
       "      <th></th>\n",
       "      <th>open_60D_pct</th>\n",
       "      <th>low_60D_pct</th>\n",
       "      <th>high_60D_pct</th>\n",
       "    </tr>\n",
       "  </thead>\n",
       "  <tbody>\n",
       "    <tr>\n",
       "      <th>count</th>\n",
       "      <td>532894.000000</td>\n",
       "      <td>532894.000000</td>\n",
       "      <td>532894.000000</td>\n",
       "    </tr>\n",
       "    <tr>\n",
       "      <th>mean</th>\n",
       "      <td>0.946422</td>\n",
       "      <td>-14.334541</td>\n",
       "      <td>17.786865</td>\n",
       "    </tr>\n",
       "    <tr>\n",
       "      <th>std</th>\n",
       "      <td>18.742542</td>\n",
       "      <td>10.301312</td>\n",
       "      <td>13.775298</td>\n",
       "    </tr>\n",
       "    <tr>\n",
       "      <th>min</th>\n",
       "      <td>-82.596846</td>\n",
       "      <td>-83.550711</td>\n",
       "      <td>0.000000</td>\n",
       "    </tr>\n",
       "    <tr>\n",
       "      <th>25%</th>\n",
       "      <td>-11.574742</td>\n",
       "      <td>-20.347619</td>\n",
       "      <td>7.496464</td>\n",
       "    </tr>\n",
       "    <tr>\n",
       "      <th>50%</th>\n",
       "      <td>0.317993</td>\n",
       "      <td>-12.511993</td>\n",
       "      <td>14.666667</td>\n",
       "    </tr>\n",
       "    <tr>\n",
       "      <th>75%</th>\n",
       "      <td>12.533034</td>\n",
       "      <td>-6.182213</td>\n",
       "      <td>24.650350</td>\n",
       "    </tr>\n",
       "    <tr>\n",
       "      <th>max</th>\n",
       "      <td>231.267874</td>\n",
       "      <td>0.000000</td>\n",
       "      <td>296.186845</td>\n",
       "    </tr>\n",
       "  </tbody>\n",
       "</table>\n",
       "</div>"
      ],
      "text/plain": [
       "        open_60D_pct    low_60D_pct   high_60D_pct\n",
       "count  532894.000000  532894.000000  532894.000000\n",
       "mean        0.946422     -14.334541      17.786865\n",
       "std        18.742542      10.301312      13.775298\n",
       "min       -82.596846     -83.550711       0.000000\n",
       "25%       -11.574742     -20.347619       7.496464\n",
       "50%         0.317993     -12.511993      14.666667\n",
       "75%        12.533034      -6.182213      24.650350\n",
       "max       231.267874       0.000000     296.186845"
      ]
     },
     "execution_count": 22,
     "metadata": {},
     "output_type": "execute_result"
    }
   ],
   "source": [
    "df[['open_60D_pct', 'low_60D_pct','high_60D_pct']].describe()"
   ]
  }
 ],
 "metadata": {
  "kernelspec": {
   "display_name": "base",
   "language": "python",
   "name": "python3"
  },
  "language_info": {
   "codemirror_mode": {
    "name": "ipython",
    "version": 3
   },
   "file_extension": ".py",
   "mimetype": "text/x-python",
   "name": "python",
   "nbconvert_exporter": "python",
   "pygments_lexer": "ipython3",
   "version": "3.11.4"
  }
 },
 "nbformat": 4,
 "nbformat_minor": 2
}
